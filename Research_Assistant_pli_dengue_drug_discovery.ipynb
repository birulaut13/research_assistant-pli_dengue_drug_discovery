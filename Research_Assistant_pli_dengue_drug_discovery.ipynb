{
  "nbformat": 4,
  "nbformat_minor": 0,
  "metadata": {
    "colab": {
      "provenance": [],
      "machine_shape": "hm",
      "gpuType": "T4"
    },
    "kernelspec": {
      "name": "python3",
      "display_name": "Python 3"
    },
    "language_info": {
      "name": "python"
    },
    "accelerator": "GPU"
  },
  "cells": [
    {
      "cell_type": "code",
      "metadata": {
        "colab": {
          "base_uri": "https://localhost:8080/"
        },
        "id": "b8531952",
        "outputId": "e7112a77-0a48-4e12-dbc1-d5e66995c7b5"
      },
      "source": [
        "!pip install biopython"
      ],
      "execution_count": 1,
      "outputs": [
        {
          "output_type": "stream",
          "name": "stdout",
          "text": [
            "Collecting biopython\n",
            "  Downloading biopython-1.85-cp312-cp312-manylinux_2_17_x86_64.manylinux2014_x86_64.whl.metadata (13 kB)\n",
            "Requirement already satisfied: numpy in /usr/local/lib/python3.12/dist-packages (from biopython) (2.0.2)\n",
            "Downloading biopython-1.85-cp312-cp312-manylinux_2_17_x86_64.manylinux2014_x86_64.whl (3.3 MB)\n",
            "\u001b[?25l   \u001b[90m━━━━━━━━━━━━━━━━━━━━━━━━━━━━━━━━━━━━━━━━\u001b[0m \u001b[32m0.0/3.3 MB\u001b[0m \u001b[31m?\u001b[0m eta \u001b[36m-:--:--\u001b[0m\r\u001b[2K   \u001b[91m━━━━━━━━━━━━━━━━━━━━━━━━━━━━━━━━━━━━━━━\u001b[0m\u001b[90m╺\u001b[0m \u001b[32m3.2/3.3 MB\u001b[0m \u001b[31m96.5 MB/s\u001b[0m eta \u001b[36m0:00:01\u001b[0m\r\u001b[2K   \u001b[90m━━━━━━━━━━━━━━━━━━━━━━━━━━━━━━━━━━━━━━━━\u001b[0m \u001b[32m3.3/3.3 MB\u001b[0m \u001b[31m62.4 MB/s\u001b[0m eta \u001b[36m0:00:00\u001b[0m\n",
            "\u001b[?25hInstalling collected packages: biopython\n",
            "Successfully installed biopython-1.85\n"
          ]
        }
      ]
    },
    {
      "cell_type": "code",
      "metadata": {
        "colab": {
          "base_uri": "https://localhost:8080/"
        },
        "id": "e78d5796",
        "outputId": "59e3757a-9e81-4bd9-dfc0-0bab9d635547"
      },
      "source": [
        "!apt-get update\n",
        "!apt-get install cd-hit"
      ],
      "execution_count": 2,
      "outputs": [
        {
          "output_type": "stream",
          "name": "stdout",
          "text": [
            "\r0% [Working]\r            \rHit:1 http://archive.ubuntu.com/ubuntu jammy InRelease\n",
            "\r0% [Waiting for headers] [Connecting to cloud.r-project.org] [Connecting to r2u\r                                                                               \rGet:2 http://archive.ubuntu.com/ubuntu jammy-updates InRelease [128 kB]\n",
            "\r                                                                               \rGet:3 http://security.ubuntu.com/ubuntu jammy-security InRelease [129 kB]\n",
            "\r0% [2 InRelease 21.4 kB/128 kB 17%] [3 InRelease 53.3 kB/129 kB 41%] [Connectin\r                                                                               \rGet:4 https://developer.download.nvidia.com/compute/cuda/repos/ubuntu2204/x86_64  InRelease [1,581 B]\n",
            "\r0% [2 InRelease 33.0 kB/128 kB 26%] [3 InRelease 75.0 kB/129 kB 58%] [Connectin\r0% [2 InRelease 35.9 kB/128 kB 28%] [3 InRelease 79.3 kB/129 kB 62%] [Connectin\r                                                                               \rHit:5 https://cli.github.com/packages stable InRelease\n",
            "\r0% [2 InRelease 35.9 kB/128 kB 28%] [3 InRelease 79.3 kB/129 kB 62%] [Connectin\r0% [2 InRelease 77.9 kB/128 kB 61%] [Connecting to cloud.r-project.org] [Connec\r0% [Connecting to cloud.r-project.org] [Connecting to r2u.stat.illinois.edu (19\r                                                                               \rGet:6 http://archive.ubuntu.com/ubuntu jammy-backports InRelease [127 kB]\n",
            "\r0% [6 InRelease 6,932 B/127 kB 5%] [Connecting to cloud.r-project.org] [Connect\r0% [Connecting to cloud.r-project.org] [Connecting to r2u.stat.illinois.edu (19\r                                                                               \rHit:7 https://ppa.launchpadcontent.net/deadsnakes/ppa/ubuntu jammy InRelease\n",
            "Hit:8 https://ppa.launchpadcontent.net/graphics-drivers/ppa/ubuntu jammy InRelease\n",
            "Hit:9 https://ppa.launchpadcontent.net/ubuntugis/ppa/ubuntu jammy InRelease\n",
            "Get:10 https://cloud.r-project.org/bin/linux/ubuntu jammy-cran40/ InRelease [3,632 B]\n",
            "Get:11 https://developer.download.nvidia.com/compute/cuda/repos/ubuntu2204/x86_64  Packages [2,065 kB]\n",
            "Get:12 https://r2u.stat.illinois.edu/ubuntu jammy InRelease [6,555 B]\n",
            "Get:13 http://archive.ubuntu.com/ubuntu jammy-updates/main amd64 Packages [3,738 kB]\n",
            "Get:14 http://archive.ubuntu.com/ubuntu jammy-updates/universe amd64 Packages [1,580 kB]\n",
            "Get:15 http://archive.ubuntu.com/ubuntu jammy-backports/main amd64 Packages [83.9 kB]\n",
            "Get:16 http://archive.ubuntu.com/ubuntu jammy-backports/universe amd64 Packages [35.2 kB]\n",
            "Get:17 https://r2u.stat.illinois.edu/ubuntu jammy/main all Packages [9,322 kB]\n",
            "Get:18 https://r2u.stat.illinois.edu/ubuntu jammy/main amd64 Packages [2,809 kB]\n",
            "Fetched 20.0 MB in 3s (7,323 kB/s)\n",
            "Reading package lists... Done\n",
            "W: Skipping acquire of configured file 'main/source/Sources' as repository 'https://r2u.stat.illinois.edu/ubuntu jammy InRelease' does not seem to provide it (sources.list entry misspelt?)\n",
            "Reading package lists... Done\n",
            "Building dependency tree... Done\n",
            "Reading state information... Done\n",
            "The following NEW packages will be installed:\n",
            "  cd-hit\n",
            "0 upgraded, 1 newly installed, 0 to remove and 40 not upgraded.\n",
            "Need to get 521 kB of archives.\n",
            "After this operation, 1,082 kB of additional disk space will be used.\n",
            "Get:1 http://archive.ubuntu.com/ubuntu jammy/universe amd64 cd-hit amd64 4.8.1-4 [521 kB]\n",
            "Fetched 521 kB in 0s (5,443 kB/s)\n",
            "Selecting previously unselected package cd-hit.\n",
            "(Reading database ... 126675 files and directories currently installed.)\n",
            "Preparing to unpack .../cd-hit_4.8.1-4_amd64.deb ...\n",
            "Unpacking cd-hit (4.8.1-4) ...\n",
            "Setting up cd-hit (4.8.1-4) ...\n",
            "Processing triggers for man-db (2.10.2-1) ...\n"
          ]
        }
      ]
    },
    {
      "cell_type": "code",
      "source": [
        "from Bio import SeqIO\n",
        "from pathlib import Path\n",
        "import subprocess"
      ],
      "metadata": {
        "id": "SAj6BIp__07N"
      },
      "execution_count": 3,
      "outputs": []
    },
    {
      "cell_type": "markdown",
      "source": [
        "# KONFIGURASI"
      ],
      "metadata": {
        "id": "4zebbj-F_5Gd"
      }
    },
    {
      "cell_type": "code",
      "source": [
        "RAW_FASTA = \"data/raw/PlasmoDB-68_Plasmodium_Isolates.fasta\"\n",
        "FILTERED_FASTA = \"data/processed/plasmo_filtered_100.fasta\"\n",
        "NONREDUNDANT_FASTA = \"data/processed/plasmo_nonredundant_cdhit.fasta\"\n",
        "CDHIT_CLUSTER = NONREDUNDANT_FASTA + \".clstr\"\n",
        "\n",
        "Path(\"data/raw\").mkdir(parents=True, exist_ok=True)\n",
        "Path(\"data/processed\").mkdir(parents=True, exist_ok=True)\n",
        "\n",
        "MIN_LEN = 100   # buang sekuens < 100 aa\n",
        "CDHIT_IDENTITY = 0.5  # 20% identity\n",
        "CDHIT_WORDSIZE = 2    # sesuai cutoff rendah"
      ],
      "metadata": {
        "id": "MAO7NPW9_v6b"
      },
      "execution_count": 20,
      "outputs": []
    },
    {
      "cell_type": "markdown",
      "source": [
        "# FILTER SEKUENS PENDEK (<100 AA)"
      ],
      "metadata": {
        "id": "KC3-2wcKAUec"
      }
    },
    {
      "cell_type": "code",
      "source": [
        "print(\"Memfilter sekuens pendek (<100 aa)...\")\n",
        "filtered_records = [rec for rec in SeqIO.parse(RAW_FASTA, \"fasta\") if len(rec.seq) >= MIN_LEN]\n",
        "SeqIO.write(filtered_records, FILTERED_FASTA, \"fasta\")\n",
        "print(f\"✅ {len(filtered_records)} sekuens disimpan ke {FILTERED_FASTA}\")"
      ],
      "metadata": {
        "colab": {
          "base_uri": "https://localhost:8080/"
        },
        "id": "5RYP6yaR_-jJ",
        "outputId": "d10826de-eec2-4a4d-fbd3-f86ff3c02080"
      },
      "execution_count": 21,
      "outputs": [
        {
          "output_type": "stream",
          "name": "stdout",
          "text": [
            "Memfilter sekuens pendek (<100 aa)...\n",
            "✅ 24625 sekuens disimpan ke data/processed/plasmo_filtered_100.fasta\n"
          ]
        }
      ]
    },
    {
      "cell_type": "markdown",
      "source": [
        "# JALANKAN CD-HIT"
      ],
      "metadata": {
        "id": "Vmhx6jGYAMh8"
      }
    },
    {
      "cell_type": "code",
      "source": [
        "print(\"Menjalankan CD-HIT...\")\n",
        "cmd = [\n",
        "    \"cd-hit\",\n",
        "    \"-i\", FILTERED_FASTA,\n",
        "    \"-o\", NONREDUNDANT_FASTA,\n",
        "    \"-c\", str(CDHIT_IDENTITY),\n",
        "    \"-n\", str(CDHIT_WORDSIZE),\n",
        "    \"-d\", \"0\"  # simpan header penuh\n",
        "]\n",
        "subprocess.run(cmd, check=True)\n",
        "print(f\"✅ CD-HIT selesai. Hasil nonredundan disimpan ke {NONREDUNDANT_FASTA}\")\n",
        "print(f\"📂 File cluster detail: {CDHIT_CLUSTER}\")"
      ],
      "metadata": {
        "colab": {
          "base_uri": "https://localhost:8080/"
        },
        "id": "HqmqQtk0AD6q",
        "outputId": "368cb387-8f4c-40b5-965b-5b22a9b9cf77"
      },
      "execution_count": 24,
      "outputs": [
        {
          "output_type": "stream",
          "name": "stdout",
          "text": [
            "Menjalankan CD-HIT...\n",
            "✅ CD-HIT selesai. Hasil nonredundan disimpan ke data/processed/plasmo_nonredundant_cdhit.fasta\n",
            "📂 File cluster detail: data/processed/plasmo_nonredundant_cdhit.fasta.clstr\n"
          ]
        }
      ]
    },
    {
      "cell_type": "markdown",
      "source": [
        "# OPSIONAL: CETAK RINGKASAN CLUSTER"
      ],
      "metadata": {
        "id": "IySDGgbNAJDr"
      }
    },
    {
      "cell_type": "code",
      "source": [
        "print(\"\\nContoh isi file cluster:\")\n",
        "with open(CDHIT_CLUSTER) as f:\n",
        "    for i, line in enumerate(f):\n",
        "        if i > 30:  # tampilkan 30 baris pertama saja\n",
        "            break\n",
        "        print(line.strip())"
      ],
      "metadata": {
        "colab": {
          "base_uri": "https://localhost:8080/"
        },
        "id": "Q2nsLHbiAG6M",
        "outputId": "5d53ca94-a2da-479a-cb13-6c56bb63d6f3"
      },
      "execution_count": 23,
      "outputs": [
        {
          "output_type": "stream",
          "name": "stdout",
          "text": [
            "\n",
            "Contoh isi file cluster:\n",
            ">Cluster 0\n",
            "0\t478aa, >AB477120... at 51.67%\n",
            "1\t5977aa, >AB444134... at 50.29%\n",
            "2\t5977aa, >AB444136... at 50.29%\n",
            "3\t852aa, >KY425883... at 55.52%\n",
            "4\t678aa, >KY425901... at 53.39%\n",
            "5\t609aa, >KY425965... at 51.23%\n",
            "6\t609aa, >KY425968... at 51.40%\n",
            "7\t909aa, >KY425869... at 55.01%\n",
            "8\t744aa, >KY425892... at 55.78%\n",
            "9\t801aa, >KY425888... at 55.56%\n",
            "10\t513aa, >KY425914... at 50.49%\n",
            "11\t621aa, >KY425863... at 55.72%\n",
            "12\t855aa, >KY425880... at 54.74%\n",
            "13\t579aa, >KY426003... at 51.12%\n",
            "14\t450aa, >KY425915... at 52.89%\n",
            "15\t450aa, >KY425916... at 51.56%\n",
            "16\t879aa, >KY425840... at 56.88%\n",
            "17\t909aa, >KY425870... at 55.67%\n",
            "18\t849aa, >KY425887... at 55.01%\n",
            "19\t555aa, >KY425999... at 51.71%\n",
            "20\t414aa, >KY425933... at 50.72%\n",
            "21\t621aa, >KY425862... at 56.20%\n",
            "22\t450aa, >KY425917... at 52.89%\n",
            "23\t678aa, >KY425878... at 53.39%\n",
            "24\t843aa, >KY425825... at 55.16%\n",
            "25\t555aa, >KY425998... at 50.09%\n",
            "26\t669aa, >KY425992... at 51.72%\n",
            "27\t849aa, >KY425886... at 55.24%\n",
            "28\t912aa, >KY425836... at 52.52%\n",
            "29\t858aa, >KY425876... at 54.55%\n"
          ]
        }
      ]
    }
  ]
}